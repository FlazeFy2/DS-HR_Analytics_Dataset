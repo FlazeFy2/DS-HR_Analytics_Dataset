{
 "cells": [
  {
   "cell_type": "code",
   "execution_count": 30,
   "id": "a6d64854-2fc7-437f-8a2b-e3d43064fbe9",
   "metadata": {},
   "outputs": [
    {
     "name": "stdout",
     "output_type": "stream",
     "text": [
      "Total Company Money's Loss By Failed Training is $421729.55 from 751 person\n",
      "The average cost per-Failed person is $561.56\n",
      "Total Budget Spending on Success Training is $893810.5 from 1587 person\n",
      "The average cost per-Succeed person is $563.21\n"
     ]
    }
   ],
   "source": [
    "import pandas as pd\n",
    "\n",
    "df = pd.read_csv(\"Messy_HR_Dataset_Detailed.csv\")\n",
    "\n",
    "# Descriptive Statistic : Count Total Budget Training Loss and Benefit By Outcome\n",
    "# Filter Failed\n",
    "failed_training_df = df[df[\"Training Outcome\"] == \"Failed\"]\n",
    "total_loss_cost = failed_training_df['Training Cost'].sum().round(2)\n",
    "total_person_failed = failed_training_df['Training Cost'].count()\n",
    "average_failed = (total_loss_cost / total_person_failed).round(2)\n",
    "\n",
    "success_training_df = df[df[\"Training Outcome\"].isin([\"Passed\", \"Completed\"])]\n",
    "total_benefit_cost = success_training_df['Training Cost'].sum().round(2)\n",
    "total_person_success = success_training_df['Training Cost'].count()\n",
    "average_success = (total_benefit_cost / total_person_success).round(2)\n",
    "\n",
    "print(f\"Total Company Money's Loss By Failed Training is ${total_loss_cost} from {total_person_failed} person\") \n",
    "print(f\"The average cost per-Failed person is ${average_failed}\")\n",
    "print(f\"Total Budget Spending on Success Training is ${total_benefit_cost} from {total_person_success} person\") \n",
    "print(f\"The average cost per-Succeed person is ${average_success}\")"
   ]
  },
  {
   "cell_type": "code",
   "execution_count": null,
   "id": "cefcb6a9-7074-4c16-8775-46afec204267",
   "metadata": {},
   "outputs": [],
   "source": []
  }
 ],
 "metadata": {
  "kernelspec": {
   "display_name": "Python [conda env:base] *",
   "language": "python",
   "name": "conda-base-py"
  },
  "language_info": {
   "codemirror_mode": {
    "name": "ipython",
    "version": 3
   },
   "file_extension": ".py",
   "mimetype": "text/x-python",
   "name": "python",
   "nbconvert_exporter": "python",
   "pygments_lexer": "ipython3",
   "version": "3.12.7"
  }
 },
 "nbformat": 4,
 "nbformat_minor": 5
}
