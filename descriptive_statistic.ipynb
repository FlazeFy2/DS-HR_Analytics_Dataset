{
 "cells": [
  {
   "cell_type": "code",
   "execution_count": 34,
   "id": "a6d64854-2fc7-437f-8a2b-e3d43064fbe9",
   "metadata": {},
   "outputs": [
    {
     "name": "stdout",
     "output_type": "stream",
     "text": [
      "Total Company Money's Loss By Failed Training is $421729.55 from 751 person\n",
      "The average cost per-Failed person is $561.56\n",
      "Total Budget Spending on Success Training is $893810.5 from 1587 person\n",
      "The average cost per-Succeed person is $563.21\n"
     ]
    }
   ],
   "source": [
    "import pandas as pd\n",
    "\n",
    "df = pd.read_csv(\"Messy_HR_Dataset_Detailed.csv\")\n",
    "\n",
    "# Descriptive Statistic : Count Total Budget Training Loss and Benefit By Outcome\n",
    "failed_training_df = df[df[\"Training Outcome\"] == \"Failed\"]\n",
    "total_loss_cost = failed_training_df['Training Cost'].sum().round(2)\n",
    "total_person_failed = failed_training_df['Training Cost'].count()\n",
    "average_failed = (total_loss_cost / total_person_failed).round(2)\n",
    "\n",
    "success_training_df = df[df[\"Training Outcome\"].isin([\"Passed\", \"Completed\"])]\n",
    "total_benefit_cost = success_training_df['Training Cost'].sum().round(2)\n",
    "total_person_success = success_training_df['Training Cost'].count()\n",
    "average_success = (total_benefit_cost / total_person_success).round(2)\n",
    "\n",
    "print(f\"Total Company Money's Loss By Failed Training is ${total_loss_cost} from {total_person_failed} person\") \n",
    "print(f\"The average cost per-Failed person is ${average_failed}\")\n",
    "print(f\"Total Budget Spending on Success Training is ${total_benefit_cost} from {total_person_success} person\") \n",
    "print(f\"The average cost per-Succeed person is ${average_success}\")"
   ]
  },
  {
   "cell_type": "code",
   "execution_count": 100,
   "id": "cefcb6a9-7074-4c16-8775-46afec204267",
   "metadata": {},
   "outputs": [
    {
     "name": "stdout",
     "output_type": "stream",
     "text": [
      "Top 3 Best Employee\n",
      "FullName\n",
      "Isaias Pineda    32\n",
      "Kane Black       30\n",
      "Nevaeh Soto      30\n",
      "Name: Score, dtype: int64\n",
      "\n",
      "Employee With Lowest Score\n",
      "FullName\n",
      "Asher Miles        3\n",
      "Gerald Johnston    3\n",
      "Karter Perry       2\n",
      "Name: Score, dtype: int64\n"
     ]
    }
   ],
   "source": [
    "import pandas as pd\n",
    "\n",
    "df = pd.read_csv(\"Messy_HR_Dataset_Detailed.csv\")\n",
    "\n",
    "# Descriptive Statistic : Get Top 3 Best Employee and Employee With Lowest Score\n",
    "# Define scoring for each Training Outcome\n",
    "score_mapping = {\n",
    "    \"Failed\": -1,\n",
    "    \"Incomplete\": 0,\n",
    "    \"Completed\": 1,\n",
    "    \"Passed\": 2\n",
    "}\n",
    "perf_mapping = {\n",
    "    \"PIP\": -1,\n",
    "    \"Needs Improvement\": 0,\n",
    "    \"Exceeds\": 1,\n",
    "    \"Fully Meets\": 2\n",
    "}\n",
    "df[\"Score\"] = df[\"Training Outcome\"].map(score_mapping) + df[\"Satisfaction Score\"] + df[\"Engagement Score\"] + df[\"Current Employee Rating\"]\n",
    "+ df[\"Performance Score\"].map(perf_mapping)\n",
    "\n",
    "# Calculate the total score for each employee\n",
    "df[\"FullName\"] = df[\"FirstName\"] + \" \" + df[\"LastName\"]\n",
    "total_scores = df.groupby(\"FullName\")[\"Score\"].sum().sort_values(ascending=False)\n",
    "\n",
    "top_3 = total_scores.head(3)\n",
    "low_3 = total_scores.tail(3)\n",
    "print(\"Top 3 Best Employee\")\n",
    "print(top_3)\n",
    "print(\"\\nEmployee With Lowest Score\")\n",
    "print(low_3)"
   ]
  },
  {
   "cell_type": "code",
   "execution_count": null,
   "id": "aa71f176-fd91-458d-9089-898465bd85d8",
   "metadata": {},
   "outputs": [],
   "source": []
  }
 ],
 "metadata": {
  "kernelspec": {
   "display_name": "Python [conda env:base] *",
   "language": "python",
   "name": "conda-base-py"
  },
  "language_info": {
   "codemirror_mode": {
    "name": "ipython",
    "version": 3
   },
   "file_extension": ".py",
   "mimetype": "text/x-python",
   "name": "python",
   "nbconvert_exporter": "python",
   "pygments_lexer": "ipython3",
   "version": "3.12.7"
  }
 },
 "nbformat": 4,
 "nbformat_minor": 5
}
